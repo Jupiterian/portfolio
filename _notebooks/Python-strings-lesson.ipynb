{
 "cells": [
  {
   "cell_type": "markdown",
   "id": "4a6e4b6e",
   "metadata": {},
   "source": [
    "# Python strings — Beginner Tic-tac-toe examples\n",
    "\n",
    "Short, simple examples that show how strings are used in a tiny Tic-tac-toe board.\n",
    "Run each code cell and read the short comments."
   ]
  },
  {
   "cell_type": "markdown",
   "id": "31b45391",
   "metadata": {},
   "source": [
    "## What is a string?\n",
    "\n",
    "- A string is text. Put text inside quotes, for example: 'hello' or \"X\".\n",
    "- In Python a single character like 'X' is also a string of length 1.\n",
    "- Use `==` to check if two strings have the same text (for example, `a == 'X'`)."
   ]
  },
  {
   "cell_type": "code",
   "execution_count": null,
   "id": "0334bb86",
   "metadata": {},
   "outputs": [],
   "source": [
    "# Basic string examples (try running this)\n",
    "a = 'x'\n",
    "print('a =', a)\n",
    "print('length of a ->', len(a))\n",
    "print('uppercase ->', a.upper())\n",
    "print('repeat ->', a * 3)  # xxx\n",
    "print('compare ->', a == 'x')  # True"
   ]
  },
  {
   "cell_type": "markdown",
   "id": "25cbbe85",
   "metadata": {},
   "source": [
    "## The board: a list of strings\n",
    "\n",
    "We keep the board as a list with 9 items. Each item is a string: either a space ' ' (empty), 'X', or 'O'.\n",
    "Index 0 is the top-left square, index 4 is the center, index 8 is the bottom-right."
   ]
  },
  {
   "cell_type": "code",
   "execution_count": null,
   "id": "7a18c7ac",
   "metadata": {},
   "outputs": [],
   "source": [
    "# Create an empty board and show a few positions\n",
    "board = [' '] * 9  # 9 empty squares\n",
    "print('board list ->', board)\n",
    "print('top-left (0) ->', repr(board[0]))\n",
    "print('center (4)   ->', repr(board[4]))\n",
    "print('bottom-right(8)->', repr(board[8]))\n",
    "\n",
    "# Put a few marks in the board\n",
    "board[0] = 'X'  # top-left\n",
    "board[4] = 'O'  # center\n",
    "board[8] = 'X'  # bottom-right\n",
    "print('after moves ->', board)"
   ]
  },
  {
   "cell_type": "code",
   "execution_count": null,
   "id": "b1ecee6c",
   "metadata": {},
   "outputs": [],
   "source": [
    "# A simple function to print the board nicely\n",
    "def print_board(board):\n",
    "    print()\n",
    "    print(' ' + board[0] + ' | ' + board[1] + ' | ' + board[2])\n",
    "    print('---+---+---')\n",
    "    print(' ' + board[3] + ' | ' + board[4] + ' | ' + board[5])\n",
    "    print('---+---+---')\n",
    "    print(' ' + board[6] + ' | ' + board[7] + ' | ' + board[8])\n",
    "    print()\n",
    "\n",
    "# show the board we made above\n",
    "print_board(board)"
   ]
  },
  {
   "cell_type": "markdown",
   "id": "3f56a4c9",
   "metadata": {},
   "source": [
    "## How we check for a win (simple)\n",
    "\n",
    "We list all the ways to get three in a row as index groups. Then we check if the same symbol ('X' or 'O') is in all three spots."
   ]
  },
  {
   "cell_type": "code",
   "execution_count": null,
   "id": "1200e2fc",
   "metadata": {},
   "outputs": [],
   "source": [
    "# Winning patterns (rows, columns, diagonals)\n",
    "win_patterns = [\n",
    "    [0,1,2], [3,4,5], [6,7,8],  # rows\n",
    "    [0,3,6], [1,4,7], [2,5,8],  # columns\n",
    "    [0,4,8], [2,4,6]            # diagonals\n",
    "]\n",
    "\n",
    "def check_winner(board, symbol):\n",
    "    for pattern in win_patterns:\n",
    "        if board[pattern[0]] == symbol and board[pattern[1]] == symbol and board[pattern[2]] == symbol:\n",
    "            return True\n",
    "    return False\n",
    "\n",
    "# Quick test: top row all X -> should be True\n",
    "b = ['X','X','X',' ',' ',' ',' ',' ',' ']\n",
    "print('winner?', check_winner(b, 'X'))  # True"
   ]
  },
  {
   "cell_type": "markdown",
   "id": "e1e649c3",
   "metadata": {},
   "source": [
    "## Try these (small exercises)\n",
    "\n",
    "- Change the board so 'O' wins and run `check_winner`.\n",
    "- Print the board after each move using `print_board`.\n",
    "- Make a string from the top row: `top = board[0] + board[1] + board[2]` and print it.\n",
    "\n",
    "If you'd like, I can add a beginner-friendly exercise that asks the student to place moves from input and play a tiny two-player game."
   ]
  }
 ],
 "metadata": {
  "language_info": {
   "name": "python"
  }
 },
 "nbformat": 4,
 "nbformat_minor": 5
}
