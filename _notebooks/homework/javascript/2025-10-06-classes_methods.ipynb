{
 "cells": [
  {
   "cell_type": "markdown",
   "id": "3ddc81e9",
   "metadata": {},
   "source": [
    "---\n",
    "layout: post\n",
    "toc: True\n",
    "breadcrumb: True\n",
    "title: CSSE Classes and Methods HW\n",
    "description: These are the homework problems and popcorn hacks.\n",
    "permalink: /csse/fall_2025/javascript/classes-and-methods/homework\n",
    "author: Adya S, Niharika B, Salma Z, Anika S, Sophie H\n",
    "---"
   ]
  },
  {
   "cell_type": "markdown",
   "id": "04a627a9",
   "metadata": {},
   "source": [
    "## **Classes and Methods**"
   ]
  },
  {
   "cell_type": "markdown",
   "id": "a88704ec",
   "metadata": {},
   "source": [
    "### <u>Popcorn Hack 1 - Dice Roller</u>\n",
    "\n",
    "\n",
    "Instructions:\n",
    "Finish the code in the cell below (fill in underlines and add lines of code) so it works as described:\n",
    "\n",
    "- Create a class called Dice that:\n",
    "    - Has a property for the number of sides.\n",
    "    - Has a method roll() that returns a random number between 1 and the number of sides.\n",
    "\n",
    "\n",
    "At the bottom, test your game by making a DiceGame object and calling roll() a few times.\n",
    "\n",
    "The code is currently NOT functional. When you have completed this popcorn hack, the code should work. Have fun!"
   ]
  },
  {
   "cell_type": "code",
   "execution_count": 1,
   "id": "83cfb441",
   "metadata": {
    "vscode": {
     "languageId": "javascript"
    }
   },
   "outputs": [
    {
     "data": {
      "application/javascript": "\nclass Dice { // Dice class with a configurable number of sides\n  constructor(sides) { // Constructor to initialize the number of sides\n    this.sides = sides; // Number of sides on the dice\n  }\n\n  roll() { // roll() returns a random integer between 1 and this.sides\n    return Math.floor(Math.random() * this.sides) + 1; // Rolls the dice and returns a number between 1 and the number of sides\n  }\n}\n\n// Test the Dice class:\nconst dice = new Dice(6); // create a 6-sided dice\nconsole.log('Rolling a 6-sided dice 5 times:');\nfor (let i = 0; i < 5; i++) {\n  console.log(dice.roll());\n}\n",
      "text/plain": [
       "<IPython.core.display.Javascript object>"
      ]
     },
     "metadata": {},
     "output_type": "display_data"
    }
   ],
   "source": [
    "%%javascript\n",
    "\n",
    "class Dice { // Dice class with a configurable number of sides\n",
    "  constructor(sides) { // Constructor to initialize the number of sides\n",
    "    this.sides = sides; // Number of sides on the dice\n",
    "  }\n",
    "\n",
    "  roll() { // roll() returns a random integer between 1 and this.sides\n",
    "    return Math.floor(Math.random() * this.sides) + 1; // Rolls the dice and returns a number between 1 and the number of sides\n",
    "  }\n",
    "}\n",
    "\n",
    "// Test the Dice class:\n",
    "const dice = new Dice(6); // create a 6-sided dice\n",
    "console.log('Rolling a 6-sided dice 5 times:');\n",
    "for (let i = 0; i < 5; i++) {\n",
    "  console.log(dice.roll());\n",
    "}\n"
   ]
  },
  {
   "cell_type": "markdown",
   "id": "eb525919",
   "metadata": {},
   "source": [
    "### <u>Popcorn Hack 2 - Pet Simulator</u>\n",
    "\n",
    "\n",
    "This hack is a bit more complicated than the first. Points will be awarded based on effort and completion.\n",
    "\n",
    "\n",
    "Analyze the block of code below. Then, complete the following instructions:\n",
    "\n",
    "\n",
    "1) Create a simple Pet class by filling in the _________.\n",
    "\n",
    "2) Add at least 2 properties (like hunger, energy, or happiness). EX: Stats decrease over time.\n",
    "\n",
    "3) Add at least two functioning methods (such as feed, play, or sleep) EX: Buttons increase stats.\n",
    "\n",
    "4) Give your pet a name and print their current properties.\n",
    "\n",
    "5) Bonus: Add a \"status\" method to print all your pet's stats.\n",
    "\n",
    "\n",
    "The code is currently NOT functional. When you have completed this popcorn hack, the code should work. Have fun!\n",
    "\n"
   ]
  },
  {
   "cell_type": "code",
   "execution_count": 3,
   "id": "740b316c",
   "metadata": {
    "vscode": {
     "languageId": "javascript"
    }
   },
   "outputs": [
    {
     "data": {
      "application/javascript": "\n// Pet simulator: implements at least 2 methods and a status printer\nclass pet {\n  constructor(name) {\n    this.name = name;\n    this.hunger = 5;   // 0 = full, 10 = starving\n    this.energy = 5;   // 0 = exhausted, 10 = full of energy\n    this.happiness = 5; // 0 = sad, 10 = very happy\n  }\n\n  // Feed the pet: decreases hunger, increases energy and happiness\n  feed(amount = 2) {\n    this.hunger = Math.max(0, this.hunger - amount);\n    this.energy = Math.min(10, this.energy + 1);\n    this.happiness = Math.min(10, this.happiness + 1);\n    const msg = `${this.name} was fed (hunger -${amount}).`;\n    console.log(msg);\n    return msg;\n  }\n\n  // Play with the pet: increases hunger, decreases energy, increases happiness\n  play(duration = 1) {\n    this.hunger = Math.min(10, this.hunger + duration);\n    this.energy = Math.max(0, this.energy - duration);\n    this.happiness = Math.min(10, this.happiness + 2 * duration);\n    const msg = `${this.name} played for ${duration} unit(s).`;\n    console.log(msg);\n    return msg;\n  }\n\n  // Let the pet sleep: restores energy, slightly increases hunger\n  sleep(hours = 2) {\n    this.energy = Math.min(10, this.energy + hours);\n    this.hunger = Math.min(10, this.hunger + 1);\n    const msg = `${this.name} slept for ${hours} hour(s).`;\n    console.log(msg);\n    return msg;\n  }\n\n  // Status method: returns a string with all stats\n  status() {\n    const s = `${this.name} — Hunger: ${this.hunger}, Energy: ${this.energy}, Happiness: ${this.happiness}`;\n    console.log(s);\n    return s;\n  }\n}\n\n// Give your pet a name and print properties\nconst myPet = new pet(\"Fluffy\"); // give your pet a name\n// Print the properties of your pet to the console\nconsole.log('Initial pet object:', myPet);\n// Try to write to an element named 'output' if it exists, otherwise create a small status div\nconst statusText = myPet.status();\nif (typeof output !== 'undefined' && output !== null) {\n  output.innerText = statusText;\n} else {\n  // create a minimal output area so the notebook shows the status\n  (function() {\n    const existing = document.getElementById('pet-status');\n    if (existing) { existing.innerText = statusText; return; }\n    const d = document.createElement('div');\n    d.id = 'pet-status';\n    d.style.padding = '8px';\n    d.style.border = '1px solid #ccc';\n    d.style.display = 'inline-block';\n    d.style.marginTop = '6px';\n    d.innerText = statusText;\n    document.body.appendChild(d);\n  })();\n}\n\n// Test your methods below:\nmyPet.feed();\nmyPet.play();\nmyPet.sleep();\n// Print final status\nmyPet.status();\n",
      "text/plain": [
       "<IPython.core.display.Javascript object>"
      ]
     },
     "metadata": {},
     "output_type": "display_data"
    }
   ],
   "source": [
    "%%javascript\n",
    "\n",
    "// Pet simulator: implements at least 2 methods and a status printer\n",
    "class pet {\n",
    "  constructor(name) {\n",
    "    this.name = name;\n",
    "    this.hunger = 5;   // 0 = full, 10 = starving\n",
    "    this.energy = 5;   // 0 = exhausted, 10 = full of energy\n",
    "    this.happiness = 5; // 0 = sad, 10 = very happy\n",
    "  }\n",
    "\n",
    "  // Feed the pet: decreases hunger, increases energy and happiness\n",
    "  feed(amount = 2) {\n",
    "    this.hunger = Math.max(0, this.hunger - amount);\n",
    "    this.energy = Math.min(10, this.energy + 1);\n",
    "    this.happiness = Math.min(10, this.happiness + 1);\n",
    "    const msg = `${this.name} was fed (hunger -${amount}).`;\n",
    "    console.log(msg);\n",
    "    return msg;\n",
    "  }\n",
    "\n",
    "  // Play with the pet: increases hunger, decreases energy, increases happiness\n",
    "  play(duration = 1) {\n",
    "    this.hunger = Math.min(10, this.hunger + duration);\n",
    "    this.energy = Math.max(0, this.energy - duration);\n",
    "    this.happiness = Math.min(10, this.happiness + 2 * duration);\n",
    "    const msg = `${this.name} played for ${duration} unit(s).`;\n",
    "    console.log(msg);\n",
    "    return msg;\n",
    "  }\n",
    "\n",
    "  // Let the pet sleep: restores energy, slightly increases hunger\n",
    "  sleep(hours = 2) {\n",
    "    this.energy = Math.min(10, this.energy + hours);\n",
    "    this.hunger = Math.min(10, this.hunger + 1);\n",
    "    const msg = `${this.name} slept for ${hours} hour(s).`;\n",
    "    console.log(msg);\n",
    "    return msg;\n",
    "  }\n",
    "\n",
    "  // Status method: returns a string with all stats\n",
    "  status() {\n",
    "    const s = `${this.name} — Hunger: ${this.hunger}, Energy: ${this.energy}, Happiness: ${this.happiness}`;\n",
    "    console.log(s);\n",
    "    return s;\n",
    "  }\n",
    "}\n",
    "\n",
    "// Give your pet a name and print properties\n",
    "const myPet = new pet(\"Fluffy\"); // give your pet a name\n",
    "// Print the properties of your pet to the console\n",
    "console.log('Initial pet object:', myPet);\n",
    "// Try to write to an element named 'output' if it exists, otherwise create a small status div\n",
    "const statusText = myPet.status();\n",
    "if (typeof output !== 'undefined' && output !== null) {\n",
    "  output.innerText = statusText;\n",
    "} else {\n",
    "  // create a minimal output area so the notebook shows the status\n",
    "  (function() {\n",
    "    const existing = document.getElementById('pet-status');\n",
    "    if (existing) { existing.innerText = statusText; return; }\n",
    "    const d = document.createElement('div');\n",
    "    d.id = 'pet-status';\n",
    "    d.style.padding = '8px';\n",
    "    d.style.border = '1px solid #ccc';\n",
    "    d.style.display = 'inline-block';\n",
    "    d.style.marginTop = '6px';\n",
    "    d.innerText = statusText;\n",
    "    document.body.appendChild(d);\n",
    "  })();\n",
    "}\n",
    "\n",
    "// Test your methods below:\n",
    "myPet.feed();\n",
    "myPet.play();\n",
    "myPet.sleep();\n",
    "// Print final status\n",
    "myPet.status();"
   ]
  },
  {
   "cell_type": "markdown",
   "id": "e7ae67bd",
   "metadata": {},
   "source": [
    "### <u>Homework</u>\n",
    "\n",
    "Complete the following questions in the next code block.\n",
    "\n",
    "1) Create a class Person with properties 'name' and 'age'. Print their properties.\n",
    "\n",
    "2) Add a method greet() to your Person class that prints a greeting using the person's name.\n",
    "\n",
    "3) Create a class Book with properties 'title', 'author', and 'pages'. Instantiate a book and print its properties.\n",
    "\n",
    "4) Add a method read(pages) to your Book class that increments a pagesRead property and prints a message.\n",
    "\n",
    "5) Add a method isLongBook() that returns true if pages > 300, otherwise false. Print the result for your book.\n",
    "\n",
    "6) Create a class Car with properties 'make', 'model', and 'fuel'. Add methods drive(distance) and refuel(amount). Print messages in each method.\n",
    "\n",
    "7) Add a static method info() to your Car class that prints 'Cars are vehicles.'\n",
    "\n",
    "8) Create a class ElectricCar that extends Car. Add a property 'battery' and a method charge(amount) that increases battery. Print battery level after charging.\n",
    "\n",
    "10) Create a routine that combines your objects: drive a Car, charge an ElectricCar, read pages from a Book, and call greet() on Person. Print outputs for each action.\n",
    "\n",
    "11) **Extra Credit:** Submit the original OOP Breakout Game Code (found on [OpenCS](https://github.com/Open-Coding-Society/pages/blob/main/hacks/breakout/breakout.md?plain=1)) after making the following edits:\n",
    "- Add another feature to the game: Add a method so that the ball must collide with some bricks twice for a brick to break completely.\n",
    "- Edit a method in the ball class to increase/decrease the speed of the ball: Please add a COMMENT on the game code that specifies which line you edited."
   ]
  },
  {
   "cell_type": "code",
   "execution_count": null,
   "id": "52d29f28",
   "metadata": {
    "vscode": {
     "languageId": "javascript"
    }
   },
   "outputs": [
    {
     "data": {
      "application/javascript": "\nconsole.log(\"Code, code, code!\");\n",
      "text/plain": [
       "<IPython.core.display.Javascript object>"
      ]
     },
     "metadata": {},
     "output_type": "display_data"
    }
   ],
   "source": [
    "%%javascript\n",
    "class Person {\n",
    "    constructor(name, age) {\n",
    "        this.name = name;\n",
    "        this.age = age;\n",
    "    }\n",
    "\n",
    "    greet() {\n",
    "        console.log(`Hello, my name is ${this.name} and I am ${this.age} years old.`);\n",
    "    }\n",
    "}\n",
    "\n",
    "const john = new Person(\"John\", 30);\n",
    "john.greet();\n",
    "class Book {\n",
    "    constructor(title, author, pages) {\n",
    "        this.title = title;\n",
    "        this.author = author\n",
    "        this.pages = pages;\n",
    "    }\n",
    "    read(pages) {\n",
    "        console.log(`You read ${pages} pages of \"${this.title}\" by ${this.author}.`);\n",
    "    }\n",
    "}\n",
    "const book = new Book(\"1984\", \"George Orwell\", 328);\n",
    "book.read(50);\n",
    "\n",
    "class Car {\n",
    "    constructor(make, model, fuel) {\n",
    "        this.make = make;\n",
    "        this.model = model;\n",
    "        this.fuel = fuel; \n",
    "    }\n",
    "    drive(distance) {\n",
    "        console.log('Driving ' + distance + ' miles in the ' + this.make + ' ' + this.model + '.');\n",
    "    }\n",
    "    refuel(amount) {\n",
    "        this.fuel += amount;\n",
    "        console.log('Refueled ' + amount + ' gallons. Total fuel: ' + this.fuel + ' gallons.');\n",
    "    }\n",
    "    info() {\n",
    "        console.log(\"Cars are vehicles\");\n",
    "    }\n",
    "}\n",
    "\n",
    "const myCar = new Car(\"Toyota\", \"Corolla\", 10);\n",
    "myCar.drive(100);\n",
    "myCar.refuel(5);\n",
    "myCar.drive(50);\n",
    "\n",
    "class ElectricCar extends Car {\n",
    "    constructor(battery){\n",
    "        this.battery = battery;\n",
    "    }\n",
    "    charge(percentage) {\n",
    "        this.battery += percentage;\n",
    "        console.log('Charged ' + percentage + '%. Total battery: ' + this.battery + '%.');\n",
    "    }\n",
    "    battery() {\n",
    "        console.log(\"Battery is at \" + this.battery + \"%\");\n",
    "    }\n",
    "}\n"
   ]
  }
 ],
 "metadata": {
  "kernelspec": {
   "display_name": "venv",
   "language": "python",
   "name": "python3"
  },
  "language_info": {
   "codemirror_mode": {
    "name": "ipython",
    "version": 3
   },
   "file_extension": ".py",
   "mimetype": "text/x-python",
   "name": "python",
   "nbconvert_exporter": "python",
   "pygments_lexer": "ipython3",
   "version": "3.12.3"
  }
 },
 "nbformat": 4,
 "nbformat_minor": 5
}
